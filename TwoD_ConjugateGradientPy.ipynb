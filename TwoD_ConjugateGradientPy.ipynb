{
 "cells": [
  {
   "cell_type": "code",
   "execution_count": 1,
   "metadata": {},
   "outputs": [],
   "source": [
    "import pandas as pd\n",
    "import numpy as np\n",
    "import os\n",
    "path = 'E:/1MS/IPNNLWork/linear nets'\n",
    "os.chdir(path)"
   ]
  },
  {
   "cell_type": "code",
   "execution_count": 2,
   "metadata": {},
   "outputs": [],
   "source": [
    "twod = pd.read_csv('twod.csv', header = None)"
   ]
  },
  {
   "cell_type": "code",
   "execution_count": 3,
   "metadata": {},
   "outputs": [],
   "source": [
    "xa = twod.loc[:, : 7]\n",
    "ta = twod.loc[:, 8 :].T.reset_index(drop=True).T"
   ]
  },
  {
   "cell_type": "code",
   "execution_count": 4,
   "metadata": {},
   "outputs": [],
   "source": [
    "N = xa.shape[1]\n",
    "M = ta.shape[1]\n",
    "Nv = xa.shape[0]"
   ]
  },
  {
   "cell_type": "code",
   "execution_count": 5,
   "metadata": {},
   "outputs": [],
   "source": [
    "X = xa.copy()\n",
    "X[8] = 1"
   ]
  },
  {
   "cell_type": "code",
   "execution_count": 6,
   "metadata": {},
   "outputs": [],
   "source": [
    "R = X.T.dot(X)/Nv"
   ]
  },
  {
   "cell_type": "code",
   "execution_count": 7,
   "metadata": {},
   "outputs": [],
   "source": [
    "C = X.T.dot(ta)/Nv"
   ]
  },
  {
   "cell_type": "code",
   "execution_count": 8,
   "metadata": {},
   "outputs": [],
   "source": [
    "Et = ((np.multiply(ta, ta))/Nv).sum(axis = 0)\n"
   ]
  },
  {
   "cell_type": "code",
   "execution_count": 11,
   "metadata": {},
   "outputs": [],
   "source": [
    "def CGrad(R,Ci, Eti):\n",
    "    Nu = R.shape[0]\n",
    "    W = np.full((Nu,1), 0)\n",
    "    \n",
    "    for pas in range(2):\n",
    "        p = np.zeros(Nu, dtype = int)\n",
    "        XD = 1 \n",
    "        \n",
    "        for it in range(Nu):\n",
    "            g = -2 * (Ci - R.dot(W).squeeze())\n",
    "            \n",
    "            XN = g.dot(g)\n",
    "            B1 = XN / XD\n",
    "            XD = XN\n",
    "    \n",
    "            # Find direction vector\n",
    "            p = -g + B1 * p\n",
    "            \n",
    "            # Calculate B2\n",
    "            Num = (-0.5) * (p.dot(g)).sum(axis = 0)\n",
    "            Den = (p.dot(R)).dot(p)\n",
    "            B2 = Num / Den\n",
    "            \n",
    "            #Update weights\n",
    "            W = W.squeeze() + (B2 * p)\n",
    "\n",
    "    \n",
    "    E = Eti - 2 * W.T.dot(Ci) + (W.T.dot(R)).dot(W)\n",
    "    return W,E"
   ]
  },
  {
   "cell_type": "code",
   "execution_count": 12,
   "metadata": {},
   "outputs": [
    {
     "name": "stdout",
     "output_type": "stream",
     "text": [
      "Error at node 1 = 0.015249 \n",
      "Error at node 2 = 0.000168 \n",
      "Error at node 3 = 0.324661 \n",
      "Error at node 4 = 0.000146 \n",
      "Error at node 5 = 0.042544 \n",
      "Error at node 6 = 0.037627 \n",
      "Error at node 7 = 0.000001 \n",
      "\n",
      "Total MSE =  0.4203949385751294\n"
     ]
    }
   ],
   "source": [
    "MSE = 0;\n",
    "W = pd.DataFrame(np.zeros((N+1, M)))\n",
    "E = 0\n",
    "for i in range(M):\n",
    "    W.loc[:, i], E = CGrad(R, C.loc[:,i],Et[i])\n",
    "    MSE = MSE + E\n",
    "    print('Error at node %d = %f ' %(i+1,E) )\n",
    "print('\\nTotal MSE = ', MSE)\n"
   ]
  }
 ],
 "metadata": {
  "kernelspec": {
   "display_name": "Python 3",
   "language": "python",
   "name": "python3"
  },
  "language_info": {
   "codemirror_mode": {
    "name": "ipython",
    "version": 3
   },
   "file_extension": ".py",
   "mimetype": "text/x-python",
   "name": "python",
   "nbconvert_exporter": "python",
   "pygments_lexer": "ipython3",
   "version": "3.7.3"
  }
 },
 "nbformat": 4,
 "nbformat_minor": 2
}
